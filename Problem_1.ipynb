{
 "cells": [
  {
   "cell_type": "code",
   "execution_count": null,
   "id": "8f500a4e-da6d-4afe-adcc-46685e1ebc6f",
   "metadata": {},
   "outputs": [],
   "source": [
    "#Problem 1"
   ]
  },
  {
   "cell_type": "code",
   "execution_count": 4,
   "id": "759654d9-8f4e-4d31-9608-b5f96fe138e4",
   "metadata": {},
   "outputs": [],
   "source": [
    "import numpy as np\n",
    "a = np.random.randint(1, 51, size=(5, 4))"
   ]
  },
  {
   "cell_type": "raw",
   "id": "84105620-da9f-4a88-9224-b71b020cb7f3",
   "metadata": {},
   "source": [
    "#1.1"
   ]
  },
  {
   "cell_type": "code",
   "execution_count": 8,
   "id": "71165c0d-4ae6-4199-aa9f-28a9ccf1424c",
   "metadata": {},
   "outputs": [
    {
     "name": "stdout",
     "output_type": "stream",
     "text": [
      "[[18  2 39 29]\n",
      " [45 13 31 33]\n",
      " [39  9 24 31]\n",
      " [48 12 19 33]\n",
      " [45 32  9 28]]\n"
     ]
    }
   ],
   "source": [
    "random_array = np.random.randint(1, 51, size=(5, 4))\n",
    "print(random_array)"
   ]
  },
  {
   "cell_type": "code",
   "execution_count": 9,
   "id": "40ede0ce-04f6-414e-a0a5-2ed3f47483d0",
   "metadata": {},
   "outputs": [
    {
     "name": "stdout",
     "output_type": "stream",
     "text": [
      "[29 31  9 48]\n"
     ]
    }
   ],
   "source": [
    "anti_diagonal = np.fliplr(random_array).diagonal()\n",
    "print(anti_diagonal)"
   ]
  },
  {
   "cell_type": "code",
   "execution_count": null,
   "id": "3071b992-4a95-4c7c-aed6-93d84cf0adda",
   "metadata": {},
   "outputs": [],
   "source": [
    "#1.2"
   ]
  },
  {
   "cell_type": "code",
   "execution_count": 10,
   "id": "7c956d1e-06ab-4168-9197-0cc7c3d4a883",
   "metadata": {},
   "outputs": [
    {
     "name": "stdout",
     "output_type": "stream",
     "text": [
      "[39 45 39 48 45]\n"
     ]
    }
   ],
   "source": [
    "row_max = np.max(random_array, axis=1)\n",
    "print(row_max)"
   ]
  },
  {
   "cell_type": "code",
   "execution_count": null,
   "id": "82ee7373-35b0-404e-bb6f-77dcd66ca081",
   "metadata": {},
   "outputs": [],
   "source": [
    "#1.3"
   ]
  },
  {
   "cell_type": "code",
   "execution_count": 11,
   "id": "01970d86-536b-4f78-8245-b16dedcdc9de",
   "metadata": {},
   "outputs": [
    {
     "name": "stdout",
     "output_type": "stream",
     "text": [
      "[18  2 13  9 24 12 19  9]\n"
     ]
    }
   ],
   "source": [
    "mean_value = np.mean(random_array)\n",
    "filtered_array = random_array[random_array <= mean_value]\n",
    "print(filtered_array)"
   ]
  },
  {
   "cell_type": "code",
   "execution_count": null,
   "id": "d44d2b2d-28bb-478b-91ab-dd95a2f60156",
   "metadata": {},
   "outputs": [],
   "source": [
    "#1.4"
   ]
  },
  {
   "cell_type": "code",
   "execution_count": 13,
   "id": "73a4b6d5-dd96-4cce-9f84-7be6e8b5f7f7",
   "metadata": {},
   "outputs": [],
   "source": [
    "def numpy_boundary_traversal(matrix):\n",
    "    if matrix.size == 0:\n",
    "        return []\n",
    "    top = matrix[0, :].tolist()\n",
    "    right = matrix[1:, -1].tolist()\n",
    "    bottom = matrix[-1, :-1][::-1].tolist() if matrix.shape[0] > 1 else []\n",
    "    left = matrix[1:-1, 0][::-1].tolist() if matrix.shape[1] > 1 else []\n",
    "    return top + right + bottom + left"
   ]
  }
 ],
 "metadata": {
  "kernelspec": {
   "display_name": "Python 3 (ipykernel)",
   "language": "python",
   "name": "python3"
  },
  "language_info": {
   "codemirror_mode": {
    "name": "ipython",
    "version": 3
   },
   "file_extension": ".py",
   "mimetype": "text/x-python",
   "name": "python",
   "nbconvert_exporter": "python",
   "pygments_lexer": "ipython3",
   "version": "3.12.7"
  }
 },
 "nbformat": 4,
 "nbformat_minor": 5
}
