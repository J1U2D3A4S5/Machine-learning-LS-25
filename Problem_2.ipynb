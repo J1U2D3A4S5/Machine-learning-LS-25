{
 "cells": [
  {
   "cell_type": "code",
   "execution_count": null,
   "id": "b90ae9ab-0024-45a2-a5bb-746ee7d4f01d",
   "metadata": {},
   "outputs": [],
   "source": [
    "#problem2"
   ]
  },
  {
   "cell_type": "code",
   "execution_count": 2,
   "id": "c99be765-d7fa-4ef6-a596-89c67d225b27",
   "metadata": {},
   "outputs": [],
   "source": [
    "import numpy as np\n",
    "a = np.random.uniform(0, 10, 20)"
   ]
  },
  {
   "cell_type": "code",
   "execution_count": null,
   "id": "3e69d57b-4e0b-4243-a35f-a8af200c4b3e",
   "metadata": {},
   "outputs": [],
   "source": [
    "#2.1"
   ]
  },
  {
   "cell_type": "code",
   "execution_count": 4,
   "id": "df2cb61b-c6f4-4427-86f2-1da8c45e499c",
   "metadata": {},
   "outputs": [
    {
     "name": "stdout",
     "output_type": "stream",
     "text": [
      "[4.29786015e+00 6.21381382e-03 2.29547879e-01 5.64761295e+00\n",
      " 2.81247278e+00 2.20693267e+00 8.68731479e+00 5.28244368e+00\n",
      " 8.64657619e-01 2.84644773e+00 6.73817308e+00 3.90356419e+00\n",
      " 2.61080139e+00 4.53151641e+00 5.64855642e+00 8.79272357e+00\n",
      " 5.63651660e+00 9.88801042e+00 8.66455514e-01 6.63014805e+00]\n"
     ]
    }
   ],
   "source": [
    "print(a)"
   ]
  },
  {
   "cell_type": "code",
   "execution_count": 5,
   "id": "0cd997bb-60c2-4cab-b8ed-07d53ab8bca3",
   "metadata": {},
   "outputs": [
    {
     "name": "stdout",
     "output_type": "stream",
     "text": [
      "[4.3  0.01 0.23 5.65 2.81 2.21 8.69 5.28 0.86 2.85 6.74 3.9  2.61 4.53\n",
      " 5.65 8.79 5.64 9.89 0.87 6.63]\n"
     ]
    }
   ],
   "source": [
    "print(np.round(a, 2))"
   ]
  },
  {
   "cell_type": "code",
   "execution_count": null,
   "id": "e5c6fa17-a448-4deb-9151-bafeac10a78c",
   "metadata": {},
   "outputs": [],
   "source": [
    "#2.2"
   ]
  },
  {
   "cell_type": "code",
   "execution_count": 8,
   "id": "a9548cfa-02e4-47f7-8f8f-d658860db2a1",
   "metadata": {},
   "outputs": [
    {
     "name": "stdout",
     "output_type": "stream",
     "text": [
      "0.006213813821920322\n",
      "9.888010424644452\n",
      "4.414688278986937\n"
     ]
    }
   ],
   "source": [
    "print(np.min(a))\n",
    "print(np.max(a))\n",
    "print(np.median(a))"
   ]
  },
  {
   "cell_type": "code",
   "execution_count": null,
   "id": "29258e0d-f63f-410b-903a-3fd94a4838fc",
   "metadata": {},
   "outputs": [],
   "source": [
    "#2.3"
   ]
  },
  {
   "cell_type": "code",
   "execution_count": 9,
   "id": "ef67ff9d-2478-4cba-8e75-8e0be2fd1ae5",
   "metadata": {},
   "outputs": [
    {
     "name": "stdout",
     "output_type": "stream",
     "text": [
      "[1.84716019e+01 3.86114822e-05 5.26922289e-02 5.64761295e+00\n",
      " 7.91000314e+00 4.87055181e+00 8.68731479e+00 5.28244368e+00\n",
      " 7.47632799e-01 8.10226468e+00 6.73817308e+00 1.52378134e+01\n",
      " 6.81628390e+00 2.05346409e+01 5.64855642e+00 8.79272357e+00\n",
      " 5.63651660e+00 9.88801042e+00 7.50745158e-01 6.63014805e+00]\n"
     ]
    }
   ],
   "source": [
    "a[a < 5] = a[a < 5] ** 2\n",
    "print(a)"
   ]
  },
  {
   "cell_type": "code",
   "execution_count": null,
   "id": "5424d54e-20c5-4230-8d2b-0fcffe368b00",
   "metadata": {},
   "outputs": [],
   "source": [
    "#2.4"
   ]
  },
  {
   "cell_type": "code",
   "execution_count": 10,
   "id": "c7f9b3b7-72ab-417e-94be-4164d5dee867",
   "metadata": {},
   "outputs": [],
   "source": [
    "def numpy_alternate_sort(array):\n",
    "    sorted_arr = np.sort(array)\n",
    "    result = np.empty_like(sorted_arr)\n",
    "    result[::2] = sorted_arr[:len(sorted_arr)//2]\n",
    "    result[1::2] = sorted_arr[len(sorted_arr)//2:][::-1]\n",
    "    return result"
   ]
  }
 ],
 "metadata": {
  "kernelspec": {
   "display_name": "Python 3 (ipykernel)",
   "language": "python",
   "name": "python3"
  },
  "language_info": {
   "codemirror_mode": {
    "name": "ipython",
    "version": 3
   },
   "file_extension": ".py",
   "mimetype": "text/x-python",
   "name": "python",
   "nbconvert_exporter": "python",
   "pygments_lexer": "ipython3",
   "version": "3.12.7"
  }
 },
 "nbformat": 4,
 "nbformat_minor": 5
}
