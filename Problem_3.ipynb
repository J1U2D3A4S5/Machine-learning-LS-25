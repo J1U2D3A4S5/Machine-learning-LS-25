{
 "cells": [
  {
   "cell_type": "code",
   "execution_count": null,
   "id": "372b90b4-bdff-4186-a9a2-a97ff85b6c68",
   "metadata": {},
   "outputs": [],
   "source": [
    "#problem3"
   ]
  },
  {
   "cell_type": "code",
   "execution_count": 1,
   "id": "d3e29fa5-412e-4ec0-8d75-d030e7fb5ef0",
   "metadata": {},
   "outputs": [],
   "source": [
    "import pandas as pd\n",
    "import numpy as np\n",
    "\n",
    "names = ['Student'+str(i) for i in range(1,11)]\n",
    "subjects = ['Math', 'Science', 'History', 'English']\n",
    "data = {\n",
    "    'Name': np.random.choice(names, 10),\n",
    "    'Subject': np.random.choice(subjects, 10),\n",
    "    'Score': np.random.randint(50, 101, 10),\n",
    "    'Grade': ''\n",
    "}\n",
    "df = pd.DataFrame(data)"
   ]
  },
  {
   "cell_type": "code",
   "execution_count": null,
   "id": "88beb169-ebcd-4f72-9ac1-a143b8fc0315",
   "metadata": {},
   "outputs": [],
   "source": [
    "#3.1"
   ]
  },
  {
   "cell_type": "code",
   "execution_count": 2,
   "id": "ef34646f-17c3-418b-ad40-70dd962c8889",
   "metadata": {},
   "outputs": [],
   "source": [
    "def assign_grade(score):\n",
    "    if score >= 90: return 'A'\n",
    "    elif score >= 80: return 'B'\n",
    "    elif score >= 70: return 'C'\n",
    "    elif score >= 60: return 'D'\n",
    "    else: return 'F'\n",
    "\n",
    "df['Grade'] = df['Score'].apply(assign_grade)"
   ]
  },
  {
   "cell_type": "code",
   "execution_count": null,
   "id": "e7c0194c-f852-499c-beb4-7bd82f0cba2a",
   "metadata": {},
   "outputs": [],
   "source": [
    "#3.2"
   ]
  },
  {
   "cell_type": "code",
   "execution_count": 3,
   "id": "c19fbf73-0783-43a9-ab3e-ba402a7db83d",
   "metadata": {},
   "outputs": [
    {
     "name": "stdout",
     "output_type": "stream",
     "text": [
      "        Name  Subject  Score Grade\n",
      "9   Student8  Science    100     A\n",
      "5   Student5  History     96     A\n",
      "6   Student6     Math     92     A\n",
      "4   Student1     Math     86     B\n",
      "7   Student7     Math     71     C\n",
      "1   Student3  English     67     D\n",
      "8   Student5  English     62     D\n",
      "2   Student7     Math     60     D\n",
      "3   Student2  Science     54     F\n",
      "0  Student10  English     50     F\n"
     ]
    }
   ],
   "source": [
    "print(df.sort_values('Score', ascending=False))"
   ]
  },
  {
   "cell_type": "code",
   "execution_count": null,
   "id": "b586cdc5-097c-4689-bcc0-7689abf19492",
   "metadata": {},
   "outputs": [],
   "source": [
    "#3.3"
   ]
  },
  {
   "cell_type": "code",
   "execution_count": 5,
   "id": "b497f16a-32ea-4467-9153-d65c467fb3cc",
   "metadata": {},
   "outputs": [],
   "source": [
    "def pandas_filter_pass(dataframe):\n",
    "    return dataframe[dataframe['Grade'].isin(['A', 'B'])]"
   ]
  },
  {
   "cell_type": "code",
   "execution_count": null,
   "id": "9b2295d5-fd09-4321-8ee2-3d46fa762a75",
   "metadata": {},
   "outputs": [],
   "source": [
    "#3.4"
   ]
  },
  {
   "cell_type": "code",
   "execution_count": 4,
   "id": "4185b05e-ea3b-47d8-b0b1-2f9a164913cf",
   "metadata": {},
   "outputs": [
    {
     "name": "stdout",
     "output_type": "stream",
     "text": [
      "Subject\n",
      "English    59.666667\n",
      "History    96.000000\n",
      "Math       77.250000\n",
      "Science    77.000000\n",
      "Name: Score, dtype: float64\n"
     ]
    }
   ],
   "source": [
    "print(df.groupby('Subject')['Score'].mean())"
   ]
  }
 ],
 "metadata": {
  "kernelspec": {
   "display_name": "Python 3 (ipykernel)",
   "language": "python",
   "name": "python3"
  },
  "language_info": {
   "codemirror_mode": {
    "name": "ipython",
    "version": 3
   },
   "file_extension": ".py",
   "mimetype": "text/x-python",
   "name": "python",
   "nbconvert_exporter": "python",
   "pygments_lexer": "ipython3",
   "version": "3.12.7"
  }
 },
 "nbformat": 4,
 "nbformat_minor": 5
}
