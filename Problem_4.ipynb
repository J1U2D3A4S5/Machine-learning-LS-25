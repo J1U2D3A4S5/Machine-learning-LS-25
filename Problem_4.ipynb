{
 "cells": [
  {
   "cell_type": "raw",
   "id": "8042f785-e892-4d2a-a829-ecd351158183",
   "metadata": {},
   "source": [
    "#problem4"
   ]
  },
  {
   "cell_type": "code",
   "execution_count": 18,
   "id": "3f0e163b-10f8-4570-894b-a32c64459e37",
   "metadata": {},
   "outputs": [],
   "source": [
    "import pandas as pd\n",
    "import numpy as np\n",
    "\n",
    "np.random.seed(42)\n",
    "\n",
    "positive_reviews = [\n",
    "    \"Absolutely loved it!\", \"A masterpiece of cinema.\", \"Outstanding performance.\",\n",
    "    \"Heartwarming and beautifully shot.\", \"The story was so inspiring.\",\n",
    "    \"A joy to watch from beginning to end.\", \"One of the best movies this year.\",\n",
    "    \"Great direction and superb acting.\", \"A thrilling experience.\",\n",
    "    \"Brilliantly made with emotional depth.\", \"So much fun to watch!\",\n",
    "    \"I couldn’t stop smiling.\", \"Loved the characters.\", \"A visual treat.\",\n",
    "    \"Perfectly paced and well written.\", \"The soundtrack was amazing.\",\n",
    "    \"Full of surprises and twists.\", \"Highly recommended!\",\n",
    "    \"I was completely immersed.\", \"A feel-good movie at its best.\",\n",
    "    \"Impressive cinematography.\", \"Everything just worked in this film.\",\n",
    "    \"Flawless acting and direction.\", \"A wonderful story.\",\n",
    "    \"The ending gave me chills.\", \"Such a powerful message.\",\n",
    "    \"The chemistry between actors was perfect.\", \"Well crafted and moving.\",\n",
    "    \"A delight for the whole family.\", \"Simply amazing!\",\n",
    "    \"It made me cry in a good way.\", \"One of my all-time favorites.\",\n",
    "    \"Well worth watching.\", \"The plot kept me hooked.\",\n",
    "    \"Truly unforgettable.\", \"Loved every second of it.\",\n",
    "    \"A perfect blend of drama and humor.\", \"Emotionally satisfying.\",\n",
    "    \"The cast was phenomenal.\", \"A truly great experience.\",\n",
    "    \"Stunning visuals!\", \"The writing was sharp and clever.\",\n",
    "    \"A rare gem in today’s cinema.\", \"Highly enjoyable.\",\n",
    "    \"It exceeded all my expectations.\", \"You must watch this!\",\n",
    "    \"Authentic and touching.\", \"A brilliant execution of the story.\",\n",
    "    \"Top-notch filmmaking.\", \"Beautiful and meaningful.\"\n",
    "]\n",
    "\n",
    "negative_reviews = [\n",
    "    \"Absolutely terrible.\", \"I want my time back.\", \"Poorly executed.\",\n",
    "    \"The acting was cringe-worthy.\", \"No real plot or direction.\",\n",
    "    \"A total disappointment.\", \"Overhyped and boring.\",\n",
    "    \"Nothing interesting happens.\", \"Waste of time.\",\n",
    "    \"I couldn’t finish it.\", \"Predictable and dull.\",\n",
    "    \"So poorly written.\", \"Flat characters with no depth.\",\n",
    "    \"The dialogue was awful.\", \"Just plain bad.\",\n",
    "    \"Unrealistic and silly.\", \"Too slow and boring.\",\n",
    "    \"What were they thinking?\", \"Fails to entertain.\",\n",
    "    \"Not worth the hype.\", \"A real letdown.\",\n",
    "    \"I regret watching this.\", \"Painfully bad.\",\n",
    "    \"Very forgettable.\", \"Unconvincing acting.\",\n",
    "    \"I was bored the entire time.\", \"A mess from start to finish.\",\n",
    "    \"Tried too hard to be deep.\", \"Uninteresting and lazy.\",\n",
    "    \"Bad editing and worse pacing.\", \"No emotional impact.\",\n",
    "    \"Terrible script.\", \"Overacted and underwhelming.\",\n",
    "    \"Lacked any originality.\", \"So many plot holes.\",\n",
    "    \"A frustrating watch.\", \"Low quality production.\",\n",
    "    \"Just a bunch of clichés.\", \"Not even entertainingly bad.\",\n",
    "    \"One of the worst movies ever.\", \"No redeeming qualities.\",\n",
    "    \"Dragged on forever.\", \"Mediocre at best.\",\n",
    "    \"Insulting to the audience.\", \"Bad from start to finish.\",\n",
    "    \"Weak story.\", \"Disjointed and confusing.\",\n",
    "    \"Unbearably boring.\", \"I can’t believe this got made.\",\n",
    "    \"Such a waste of talent.\"\n",
    "]\n",
    "\n",
    "reviews = positive_reviews + negative_reviews\n",
    "sentiments = ['positive'] * 50 + ['negative'] * 50\n",
    "\n",
    "df = pd.DataFrame({'Review': reviews, 'Sentiment': sentiments})"
   ]
  },
  {
   "cell_type": "code",
   "execution_count": null,
   "id": "b0c91909-aec9-4281-a809-00a3c74a6d9a",
   "metadata": {},
   "outputs": [],
   "source": [
    "#4.1"
   ]
  },
  {
   "cell_type": "code",
   "execution_count": 37,
   "id": "6baeed88-3bba-4fc2-9ccd-61cb7e874a11",
   "metadata": {},
   "outputs": [],
   "source": [
    "#shuffling :\n",
    "df = df.sample(frac=1, random_state=42).reset_index(drop=True)\n",
    "\n",
    "from sklearn.feature_extraction.text import CountVectorizer\n",
    "\n",
    "vectorizer = CountVectorizer(max_features=500, stop_words='english')\n",
    "X = vectorizer.fit_transform(df['Review'])\n",
    "y = df['Sentiment']"
   ]
  },
  {
   "cell_type": "code",
   "execution_count": null,
   "id": "294fba02-5be6-4bee-9547-c28cd6068c6f",
   "metadata": {},
   "outputs": [],
   "source": [
    "#4.2"
   ]
  },
  {
   "cell_type": "code",
   "execution_count": 31,
   "id": "51e8a700-9bf3-4732-a4ec-5571dd31f305",
   "metadata": {},
   "outputs": [],
   "source": [
    "from sklearn.model_selection import train_test_split\n",
    "\n",
    "X_train, X_test, y_train, y_test = train_test_split(X, y, test_size=0.2 ,random_state=42 ,shuffle=True, stratify=y)"
   ]
  },
  {
   "cell_type": "code",
   "execution_count": null,
   "id": "35955b2c-bad4-4edf-8363-7b1ac6b00278",
   "metadata": {},
   "outputs": [],
   "source": [
    "#4.3"
   ]
  },
  {
   "cell_type": "code",
   "execution_count": 38,
   "id": "f3c70e0e-8f04-4beb-9d26-b9189cb5046c",
   "metadata": {},
   "outputs": [
    {
     "name": "stdout",
     "output_type": "stream",
     "text": [
      "Model accuracy on test set: 0.60\n"
     ]
    }
   ],
   "source": [
    "from sklearn.naive_bayes import MultinomialNB\n",
    "from sklearn.metrics import accuracy_score\n",
    "\n",
    "model = MultinomialNB()\n",
    "model.fit(X_train, y_train)\n",
    "\n",
    "y_pred = model.predict(X_test)\n",
    "accuracy = accuracy_score(y_test, y_pred)\n",
    "print(f\"Model accuracy on test set: {accuracy:.2f}\")"
   ]
  },
  {
   "cell_type": "code",
   "execution_count": null,
   "id": "10de55f0-efd9-4c95-9f51-fa31a646ac97",
   "metadata": {},
   "outputs": [],
   "source": [
    "#4.4"
   ]
  },
  {
   "cell_type": "code",
   "execution_count": 13,
   "id": "384b1f9e-d205-4832-9ea9-5acba1790e37",
   "metadata": {},
   "outputs": [],
   "source": [
    "def predict_review_sentiment(model, vectorizer, review):\n",
    "    \n",
    "    return model.predict(vectorizer.transform([review]))"
   ]
  },
  {
   "cell_type": "code",
   "execution_count": null,
   "id": "e988c52d-b119-4b46-8ff2-86b878f23b8f",
   "metadata": {},
   "outputs": [],
   "source": [
    "# A sample review on the function "
   ]
  },
  {
   "cell_type": "code",
   "execution_count": 12,
   "id": "3d2e9e68-cedc-447b-bede-e953fcbf5547",
   "metadata": {},
   "outputs": [
    {
     "name": "stdout",
     "output_type": "stream",
     "text": [
      "['negative']\n"
     ]
    }
   ],
   "source": [
    "sample_review = \"This movie was terrible and boring\"\n",
    "print(predict_review_sentiment(model, vectorizer, sample_review)) "
   ]
  }
 ],
 "metadata": {
  "kernelspec": {
   "display_name": "Python 3 (ipykernel)",
   "language": "python",
   "name": "python3"
  },
  "language_info": {
   "codemirror_mode": {
    "name": "ipython",
    "version": 3
   },
   "file_extension": ".py",
   "mimetype": "text/x-python",
   "name": "python",
   "nbconvert_exporter": "python",
   "pygments_lexer": "ipython3",
   "version": "3.12.7"
  }
 },
 "nbformat": 4,
 "nbformat_minor": 5
}
