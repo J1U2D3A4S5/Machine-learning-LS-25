{
 "cells": [
  {
   "cell_type": "code",
   "execution_count": null,
   "id": "eeaa3f45-79f3-4000-a532-3c7c3dd008aa",
   "metadata": {},
   "outputs": [],
   "source": [
    "#problem4"
   ]
  },
  {
   "cell_type": "code",
   "execution_count": 7,
   "id": "6d7fd8d6-f850-4744-b210-f604fc85c1b0",
   "metadata": {},
   "outputs": [],
   "source": [
    "import pandas as pd\n",
    "import numpy as np\n",
    "from sklearn.feature_extraction.text import CountVectorizer\n",
    "from sklearn.model_selection import train_test_split\n",
    "from sklearn.naive_bayes import MultinomialNB\n",
    "\n",
    "positive_reviews = ['Great movie ' + str(i) for i in range(50)]\n",
    "negative_reviews = ['Bad movie ' + str(i) for i in range(50)]\n",
    "reviews = positive_reviews + negative_reviews\n",
    "sentiments = ['positive']*50 + ['negative']*50\n",
    "df = pd.DataFrame({'Review': reviews, 'Sentiment': sentiments})"
   ]
  },
  {
   "cell_type": "code",
   "execution_count": null,
   "id": "ad3a3ace-83e6-4cc0-8b60-d8b192538232",
   "metadata": {},
   "outputs": [],
   "source": [
    "#4.1"
   ]
  },
  {
   "cell_type": "code",
   "execution_count": 2,
   "id": "24199ba1-5a10-4fa2-a3a2-e1d06e2af7c3",
   "metadata": {},
   "outputs": [],
   "source": [
    "vectorizer = CountVectorizer(max_features=500, stop_words='english')\n",
    "X = vectorizer.fit_transform(df['Review'])\n",
    "y = df['Sentiment']"
   ]
  },
  {
   "cell_type": "code",
   "execution_count": null,
   "id": "b95ea9bb-d306-43f1-9cc5-44a8bc6a7190",
   "metadata": {},
   "outputs": [],
   "source": [
    "#4.2"
   ]
  },
  {
   "cell_type": "code",
   "execution_count": 8,
   "id": "0f75aeb3-85fa-4527-a8f5-b0c49385428e",
   "metadata": {},
   "outputs": [],
   "source": [
    "X_train, X_test, y_train, y_test = train_test_split(X, y, test_size=0.2)"
   ]
  },
  {
   "cell_type": "code",
   "execution_count": null,
   "id": "0ba7c69f-5240-400b-8da7-f532c6d51940",
   "metadata": {},
   "outputs": [],
   "source": [
    "#4.3"
   ]
  },
  {
   "cell_type": "code",
   "execution_count": 9,
   "id": "2d46738b-6ada-4df9-b899-6c8ff687c0ab",
   "metadata": {},
   "outputs": [
    {
     "name": "stdout",
     "output_type": "stream",
     "text": [
      "1.0\n"
     ]
    }
   ],
   "source": [
    "model = MultinomialNB().fit(X_train, y_train)\n",
    "print(model.score(X_test, y_test))"
   ]
  },
  {
   "cell_type": "code",
   "execution_count": null,
   "id": "f3382314-d53d-4945-a421-b1b061d67e05",
   "metadata": {},
   "outputs": [],
   "source": [
    "#4.4"
   ]
  },
  {
   "cell_type": "code",
   "execution_count": 4,
   "id": "541555a8-8719-4356-92c6-10e07142c605",
   "metadata": {},
   "outputs": [],
   "source": [
    "def predict_review_sentiment(model, vectorizer, review):\n",
    "    return model.predict(vectorizer.transform([review]))[0]"
   ]
  }
 ],
 "metadata": {
  "kernelspec": {
   "display_name": "Python 3 (ipykernel)",
   "language": "python",
   "name": "python3"
  },
  "language_info": {
   "codemirror_mode": {
    "name": "ipython",
    "version": 3
   },
   "file_extension": ".py",
   "mimetype": "text/x-python",
   "name": "python",
   "nbconvert_exporter": "python",
   "pygments_lexer": "ipython3",
   "version": "3.12.7"
  }
 },
 "nbformat": 4,
 "nbformat_minor": 5
}
