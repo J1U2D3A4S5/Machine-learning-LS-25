{
 "cells": [
  {
   "cell_type": "raw",
   "id": "48fa5f55-c999-4b1c-b554-3f8dd6e04b4d",
   "metadata": {},
   "source": [
    "#Problem5"
   ]
  },
  {
   "cell_type": "code",
   "execution_count": 6,
   "id": "fc6376cd-7674-424e-a301-d726c1e331ab",
   "metadata": {},
   "outputs": [],
   "source": [
    "import numpy as np\n",
    "import pandas as pd\n",
    "\n",
    "np.random.seed(42)\n",
    "good_feedback = [\n",
    "    \"This product is amazing and works perfectly\",\n",
    "    \"Excellent quality, would buy again\",\n",
    "    \"Very satisfied with my purchase\",\n",
    "    \"Great value for the price\",\n",
    "    \"Works exactly as described\",\n",
    "    \"Fast shipping and good packaging\",\n",
    "    \"Highly recommended to others\",\n",
    "    \"Perfect fit and comfortable\",\n",
    "    \"Exceeded my expectations\",\n",
    "    \"Beautiful design and sturdy construction\",\n",
    "    \"User friendly and intuitive\",\n",
    "    \"Best product in this category\",\n",
    "    \"Impressive performance and features\",\n",
    "    \"Good customer service experience\",\n",
    "    \"Reliable and durable product\",\n",
    "    \"Easy to assemble and use\",\n",
    "    \"Great color and finish\",\n",
    "    \"Exactly what I was looking for\",\n",
    "    \"Superior quality compared to competitors\",\n",
    "    \"Very happy with this purchase\",\n",
    "    \"Works better than I expected\",\n",
    "    \"Good battery life and performance\",\n",
    "    \"Stylish and functional design\",\n",
    "    \"No issues, works perfectly\",\n",
    "    \"Great for the price point\",\n",
    "    \"Quick delivery and well packaged\",\n",
    "    \"Excellent product for daily use\",\n",
    "    \"Good materials and craftsmanship\",\n",
    "    \"Very pleased with the quality\",\n",
    "    \"Does the job perfectly\",\n",
    "    \"Simple to set up and operate\",\n",
    "    \"Good instructions included\",\n",
    "    \"Durable and long lasting\",\n",
    "    \"Perfect size for my needs\",\n",
    "    \"Great features for the price\",\n",
    "    \"Lightweight yet sturdy\",\n",
    "    \"Good value for money\",\n",
    "    \"Excellent performance overall\",\n",
    "    \"No complaints at all\",\n",
    "    \"Better than advertised\",\n",
    "    \"Very effective and efficient\",\n",
    "    \"Good build quality\",\n",
    "    \"Comfortable to use daily\",\n",
    "    \"Sleek modern design\",\n",
    "    \"Works flawlessly\",\n",
    "    \"Good customer support\",\n",
    "    \"Highly functional\",\n",
    "    \"Great purchase decision\",\n",
    "    \"No problems encountered\"\n",
    "]\n",
    "\n",
    "bad_feedback = [\n",
    "    \"Poor quality and broke quickly\",\n",
    "    \"Not worth the money at all\",\n",
    "    \"Defective item received\",\n",
    "    \"Does not work as advertised\",\n",
    "    \"Very disappointed with this product\",\n",
    "    \"Cheap materials used\",\n",
    "    \"Difficult to assemble\",\n",
    "    \"Missing parts in package\",\n",
    "    \"Not as described in listing\",\n",
    "    \"Stopped working after few days\",\n",
    "    \"Customer service was terrible\",\n",
    "    \"Overpriced for what you get\",\n",
    "    \"Wrong item was shipped\",\n",
    "    \"Size was not accurate\",\n",
    "    \"Poor packaging and damaged\",\n",
    "    \"Uncomfortable to use\",\n",
    "    \"Low quality materials\",\n",
    "    \"Not durable at all\",\n",
    "    \"Instructions were unclear\",\n",
    "    \"Not what I expected\",\n",
    "    \"Very flimsy construction\",\n",
    "    \"Does not function properly\",\n",
    "    \"Waste of money\",\n",
    "    \"Arrived late and damaged\",\n",
    "    \"Difficult to operate\",\n",
    "    \"Poor performance overall\",\n",
    "    \"Not recommended to others\",\n",
    "    \"Faulty design\",\n",
    "    \"Bad experience with seller\",\n",
    "    \"Not suitable for purpose\",\n",
    "    \"Cheap looking finish\",\n",
    "    \"Too small for my needs\",\n",
    "    \"Not worth the price\",\n",
    "    \"Broke after first use\",\n",
    "    \"Terrible product quality\",\n",
    "    \"Missing accessories\",\n",
    "    \"No instructions included\",\n",
    "    \"Very noisy operation\",\n",
    "    \"Does not last long\",\n",
    "    \"Poor workmanship\",\n",
    "    \"Not functional as needed\",\n",
    "    \"Difficult to install\",\n",
    "    \"Unreliable performance\",\n",
    "    \"Bad smell from product\",\n",
    "    \"Color was different\",\n",
    "    \"Too complicated to use\",\n",
    "    \"Not comfortable at all\",\n",
    "    \"Arrived used not new\",\n",
    "    \"Definitely returning this\",\n",
    "    \"Worst purchase ever\",\n",
    "    \"Complete waste of time\"\n",
    "]\n",
    "\n",
    "data = {\n",
    "    'text': good_feedback + bad_feedback,\n",
    "    'label': ['good']*50 + ['bad']*50\n",
    "}\n",
    "df = pd.DataFrame(data)"
   ]
  },
  {
   "cell_type": "code",
   "execution_count": null,
   "id": "affa554b-209b-4f2b-8892-2f1edf86ac74",
   "metadata": {},
   "outputs": [],
   "source": [
    "#5.1"
   ]
  },
  {
   "cell_type": "code",
   "execution_count": 4,
   "id": "3a8c2d9f-2d15-4b45-a0d5-ae8674f0fd86",
   "metadata": {},
   "outputs": [],
   "source": [
    "from sklearn.feature_extraction.text import TfidfVectorizer\n",
    "\n",
    "vectorizer = TfidfVectorizer(max_features=300, lowercase=True, stop_words='english')\n",
    "X = vectorizer.fit_transform(df['text'])\n",
    "y = df['label']"
   ]
  },
  {
   "cell_type": "code",
   "execution_count": null,
   "id": "9eed9d27-f619-4a07-aca1-ffa6a1eac4cb",
   "metadata": {},
   "outputs": [],
   "source": [
    "#5.2"
   ]
  },
  {
   "cell_type": "code",
   "execution_count": 7,
   "id": "ff75a134-f68d-4281-a89b-b82ea26944f6",
   "metadata": {},
   "outputs": [],
   "source": [
    "from sklearn.model_selection import train_test_split\n",
    "\n",
    "X_train, X_test, y_train, y_test = train_test_split(X, y, test_size=0.25, random_state=42)"
   ]
  },
  {
   "cell_type": "code",
   "execution_count": null,
   "id": "f2593df8-eb12-4c29-8a1a-a5ad470b4a21",
   "metadata": {},
   "outputs": [],
   "source": [
    "#5.3"
   ]
  },
  {
   "cell_type": "code",
   "execution_count": 8,
   "id": "c8e727b2-79cb-4030-9a05-41fda9d783e9",
   "metadata": {},
   "outputs": [
    {
     "name": "stdout",
     "output_type": "stream",
     "text": [
      "Precision: 0.7000\n",
      "Recall: 0.5000\n",
      "F1-score: 0.5833\n"
     ]
    }
   ],
   "source": [
    "from sklearn.linear_model import LogisticRegression\n",
    "from sklearn.metrics import precision_score, recall_score, f1_score\n",
    "\n",
    "model = LogisticRegression(random_state=42)\n",
    "model.fit(X_train, y_train)\n",
    "\n",
    "y_pred = model.predict(X_test)\n",
    "precision = precision_score(y_test, y_pred, pos_label='good')\n",
    "recall = recall_score(y_test, y_pred, pos_label='good')\n",
    "f1 = f1_score(y_test, y_pred, pos_label='good')\n",
    "\n",
    "print(f\"Precision: {precision:.4f}\")\n",
    "print(f\"Recall: {recall:.4f}\")\n",
    "print(f\"F1-score: {f1:.4f}\")"
   ]
  },
  {
   "cell_type": "code",
   "execution_count": null,
   "id": "4bb7ed24-37ab-4bd3-8110-b6c175f4c362",
   "metadata": {},
   "outputs": [],
   "source": [
    "#5.4"
   ]
  },
  {
   "cell_type": "code",
   "execution_count": 9,
   "id": "7717b60a-19c6-499a-bd25-5143d7b3d70e",
   "metadata": {},
   "outputs": [],
   "source": [
    "def text_preprocess_vectorize(texts, vectorizer):\n",
    "    return vectorizer.transform(texts)"
   ]
  },
  {
   "cell_type": "code",
   "execution_count": null,
   "id": "f7498bfc-a96f-4b3d-bd6f-d4e80dd05f2e",
   "metadata": {},
   "outputs": [],
   "source": [
    "# A sample text on the function "
   ]
  },
  {
   "cell_type": "code",
   "execution_count": 14,
   "id": "44169180-f08b-478e-ad32-1f725119ef08",
   "metadata": {},
   "outputs": [
    {
     "name": "stdout",
     "output_type": "stream",
     "text": [
      "['bad']\n"
     ]
    }
   ],
   "source": [
    "sample_text = [\"Terrible experience\"]\n",
    "vectorized = text_preprocess_vectorize(sample_text, vectorizer)\n",
    "predictions = model.predict(vectorized)\n",
    "print(predictions)"
   ]
  }
 ],
 "metadata": {
  "kernelspec": {
   "display_name": "Python 3 (ipykernel)",
   "language": "python",
   "name": "python3"
  },
  "language_info": {
   "codemirror_mode": {
    "name": "ipython",
    "version": 3
   },
   "file_extension": ".py",
   "mimetype": "text/x-python",
   "name": "python",
   "nbconvert_exporter": "python",
   "pygments_lexer": "ipython3",
   "version": "3.12.7"
  }
 },
 "nbformat": 4,
 "nbformat_minor": 5
}
